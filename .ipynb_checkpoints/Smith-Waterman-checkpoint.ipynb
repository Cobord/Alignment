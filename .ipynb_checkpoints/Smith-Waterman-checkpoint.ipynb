{
 "cells": [
  {
   "cell_type": "code",
   "execution_count": 60,
   "metadata": {},
   "outputs": [],
   "source": [
    "import numpy as np\n",
    "\n",
    "def custom_s_function(a,b,alignment_value=5,wildcard='?',\n",
    "            common_replacements=[(' ','-'),('-',' '),('-','_'),('_','-')],common_error_value=1):\n",
    "    if (a==b):\n",
    "        return alignment_value\n",
    "    elif (a==wildcard or b==wildcard):\n",
    "        return alignment_value\n",
    "    elif ((a,b) in common_replacements):\n",
    "        return common_error_value\n",
    "    else:\n",
    "        return 0\n",
    "\n",
    "def smith_waterman(str1,str2,s_function=lambda x,y: custom_s_function(x,y),opening_cost=5,continuation_cost=2):\n",
    "    n = len(str1)\n",
    "    m = len(str2)\n",
    "    H = np.zeros((n+1,m+1))\n",
    "    for i in range(1,n+1):\n",
    "        for j in range(1,m+1):\n",
    "            match_score = H[i-1,j-1]+s_function(str1[i-1],str2[j-1])\n",
    "            storage_variable=0\n",
    "            gap_str1_score = -100000\n",
    "            for k in range(1,i+1):\n",
    "                storage_variable=(H[i-k,j]-opening_cost-continuation_cost*k)\n",
    "                if (storage_variable>gap_str1_score):\n",
    "                    gap_str1_score=storage_variable\n",
    "            gap_str2_score = -100000\n",
    "            for k in range(1,j+1):\n",
    "                storage_variable=(H[i,j-k]-opening_cost-continuation_cost*k)\n",
    "                if (storage_variable>gap_str2_score):\n",
    "                    gap_str2_score=storage_variable\n",
    "            H[i,j]=max(match_score,gap_str1_score,gap_str2_score,0)\n",
    "    return H\n",
    "\n",
    "def backtrack(str1,str2,H):\n",
    "    max_index=np.unravel_index(np.argmax(H, axis=None), H.shape)\n",
    "    #print(max_index)\n",
    "    #print(H[max_index])\n",
    "    reached_zero=(H[max_index]==0)\n",
    "    if (not reached_zero):\n",
    "        segment1=str1[max_index[0]-1]\n",
    "        segment2=str2[max_index[1]-1]\n",
    "    current_position=max_index\n",
    "    while (not reached_zero):\n",
    "        go_up=(current_position[0],current_position[1]-1)\n",
    "        go_up_score=H[go_up]\n",
    "        go_left=(current_position[0]-1,current_position[1])\n",
    "        go_left_score=H[go_left]\n",
    "        go_diag=(current_position[0]-1,current_position[1]-1)\n",
    "        go_diag_score=H[go_diag]\n",
    "        max_score=max(go_up_score,go_left_score,go_diag_score)\n",
    "        reached_zero=(max_score==0)\n",
    "        if (reached_zero):\n",
    "            break\n",
    "        if (max_score==go_diag_score):\n",
    "            #print(\"Diagonal\")\n",
    "            segment1=str1[go_diag[0]-1]+segment1\n",
    "            segment2=str2[go_diag[1]-1]+segment2\n",
    "            current_position=go_diag\n",
    "        elif (max_score==go_up_score):\n",
    "            #print(\"Go up\")\n",
    "            segment1=\"-\"+segment1\n",
    "            segment2=str2[go_diag[1]-1]+segment2\n",
    "            current_position=go_up\n",
    "        else:\n",
    "            #print(\"Go left\")\n",
    "            segment1=str1[go_diag[1]-1]+segment1\n",
    "            segment2=\"-\"+segment2\n",
    "            current_position=go_left\n",
    "        #print(segment1)\n",
    "        #print(segment2)\n",
    "    return (segment1,segment2)\n",
    "\n",
    "def full_smith_waterman(str1,str2,s_function=lambda x,y: custom_s_function(x,y),opening_cost=5,continuation_cost=2):\n",
    "    H=smith_waterman(str1,str2,s_function=lambda x,y: custom_s_function(x,y),opening_cost=5,continuation_cost=2)\n",
    "    return backtrack(str1,str2,H)"
   ]
  },
  {
   "cell_type": "code",
   "execution_count": 61,
   "metadata": {},
   "outputs": [
    {
     "name": "stdout",
     "output_type": "stream",
     "text": [
      "[[ 0.  0.  0.  0.  0.  0.]\n",
      " [ 0.  5.  0.  0.  0.  0.]\n",
      " [ 0.  0. 10.  3.  1.  0.]\n",
      " [ 0.  0.  3. 15.  8.  6.]\n",
      " [ 0.  0.  1.  8. 20. 13.]\n",
      " [ 0.  0.  0.  6. 13. 25.]]\n",
      "[[ 0.  0.  0.  0.  0.  0.]\n",
      " [ 0.  5.  0.  5.  0.  0.]\n",
      " [ 0.  0. 10.  5.  5.  0.]\n",
      " [ 0.  0.  3. 15.  8.  6.]\n",
      " [ 0.  0.  1.  8. 20. 13.]\n",
      " [ 0.  0.  0.  6. 13. 25.]]\n",
      "[[ 0.  0.  0.  0.  0.  0.]\n",
      " [ 0.  5.  0.  0.  0.  0.]\n",
      " [ 0.  0. 10.  3.  1.  0.]\n",
      " [ 0.  0.  3. 10.  3.  1.]\n",
      " [ 0.  0.  1.  3. 15.  8.]\n",
      " [ 0.  0.  0.  1.  8. 20.]]\n"
     ]
    }
   ],
   "source": [
    "H1=smith_waterman(\"smith\",\"smith\")\n",
    "H2=smith_waterman(\"smith\",\"sm?th\")\n",
    "H3=smith_waterman(\"smith\",\"smyth\")\n",
    "backtrack(\"smith\",\"smyth\",H3)\n",
    "print(H1)\n",
    "print(H2)\n",
    "print(H3)"
   ]
  },
  {
   "cell_type": "code",
   "execution_count": 63,
   "metadata": {},
   "outputs": [
    {
     "name": "stdout",
     "output_type": "stream",
     "text": [
      "[[ 0.  0.  0.  0.  0.  0.  0.  0.  0.  0.]\n",
      " [ 0.  0.  0.  5.  5.  0.  0.  0.  5.  0.]\n",
      " [ 0.  5.  5.  0.  5. 10.  3.  1.  0.  5.]\n",
      " [ 0.  0.  5. 10.  5.  5. 10.  3.  6.  0.]\n",
      " [ 0.  0.  0. 10. 15.  8.  6. 10.  8.  6.]\n",
      " [ 0.  0.  0.  3. 10. 15. 13.  6. 10. 13.]\n",
      " [ 0.  0.  0.  1.  6. 10. 15. 18. 11. 10.]\n",
      " [ 0.  5.  5.  0.  4. 11. 10. 15. 18. 11.]\n",
      " [ 0.  5. 10.  5.  2.  9. 11. 10. 15. 18.]]\n",
      "('-GTTA-C', 'GGTTGAC')\n"
     ]
    }
   ],
   "source": [
    "H4=smith_waterman(\"TGTTACGG\",\"GGTTGACTA\")\n",
    "print(H4)\n",
    "print(full_smith_waterman(\"TGTTACGG\",\"GGTTGACTA\"))"
   ]
  },
  {
   "cell_type": "code",
   "execution_count": null,
   "metadata": {},
   "outputs": [],
   "source": []
  }
 ],
 "metadata": {
  "kernelspec": {
   "display_name": "Python 3",
   "language": "python",
   "name": "python3"
  },
  "language_info": {
   "codemirror_mode": {
    "name": "ipython",
    "version": 3
   },
   "file_extension": ".py",
   "mimetype": "text/x-python",
   "name": "python",
   "nbconvert_exporter": "python",
   "pygments_lexer": "ipython3",
   "version": "3.6.4"
  }
 },
 "nbformat": 4,
 "nbformat_minor": 2
}
